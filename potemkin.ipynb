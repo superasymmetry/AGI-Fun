{
  "nbformat": 4,
  "nbformat_minor": 0,
  "metadata": {
    "colab": {
      "provenance": [],
      "machine_shape": "hm",
      "gpuType": "A100",
      "authorship_tag": "ABX9TyM8dEw7GnMIqrTmE5ws7ISi",
      "include_colab_link": true
    },
    "kernelspec": {
      "name": "python3",
      "display_name": "Python 3"
    },
    "language_info": {
      "name": "python"
    },
    "accelerator": "GPU"
  },
  "cells": [
    {
      "cell_type": "markdown",
      "metadata": {
        "id": "view-in-github",
        "colab_type": "text"
      },
      "source": [
        "<a href=\"https://colab.research.google.com/github/superasymmetry/ARC-AGI-Fun/blob/main/potemkin.ipynb\" target=\"_parent\"><img src=\"https://colab.research.google.com/assets/colab-badge.svg\" alt=\"Open In Colab\"/></a>"
      ]
    },
    {
      "cell_type": "markdown",
      "source": [
        "# Potemkin Benchmark"
      ],
      "metadata": {
        "id": "3xAcOM0W5alY"
      }
    },
    {
      "cell_type": "code",
      "execution_count": null,
      "metadata": {
        "id": "Avgzw_hE5YXK"
      },
      "outputs": [],
      "source": [
        "!pip install -q trl accelerate bitsandbytes datasets sentencepiece jsonlines"
      ]
    },
    {
      "cell_type": "code",
      "source": [
        "!pip install --upgrade git+https://github.com/huggingface/trl@main"
      ],
      "metadata": {
        "id": "21jVpJs5SHIn"
      },
      "execution_count": null,
      "outputs": []
    },
    {
      "cell_type": "code",
      "source": [
        "!pip uninstall -y trl\n",
        "!pip install -U \"transformers>=4.42\" \"accelerate>=0.31\" bitsandbytes peft\n",
        "!pip install -U git+https://github.com/huggingface/trl@main\n"
      ],
      "metadata": {
        "id": "Pwl7Muh3UWiu"
      },
      "execution_count": null,
      "outputs": []
    },
    {
      "cell_type": "code",
      "source": [
        "from huggingface_hub import login\n",
        "from google.colab import userdata\n",
        "HF_TOKEN=userdata.get('HF_TOKEN')\n",
        "\n",
        "if HF_TOKEN:\n",
        "    login(HF_TOKEN)\n",
        "    print(\"Successfully logged in to Hugging Face!\")\n",
        "    print(HF_TOKEN)\n",
        "else:\n",
        "    print(\"Token is not set. Please save the token first.\")\n"
      ],
      "metadata": {
        "id": "F1p7B8omAR4i"
      },
      "execution_count": null,
      "outputs": []
    },
    {
      "cell_type": "code",
      "source": [
        "from transformers import AutoModelForCausalLM, AutoTokenizer\n",
        "import torch, re\n",
        "\n",
        "# model_id = \"meta-llama/Meta-Llama-3-8B-Instruct\"\n",
        "# tokenizer = AutoTokenizer.from_pretrained(model_id, token=HF_TOKEN)\n",
        "# model = AutoModelForCausalLM.from_pretrained(\n",
        "#     model_id, load_in_4bit=True, token=HF_TOKEN, device_map=\"auto\"\n",
        "# )\n",
        "\n",
        "\n",
        "model_id = \"Qwen/Qwen2.5-7B\"\n",
        "tokenizer = AutoTokenizer.from_pretrained(\n",
        "    model_id,\n",
        "    trust_remote_code=True             # Qwen models need this\n",
        ")\n",
        "\n",
        "model = AutoModelForCausalLM.from_pretrained(\n",
        "    model_id,\n",
        "    trust_remote_code=True,\n",
        "    device_map=\"auto\",                 # or {\"\": 0} for single‑GPU\n",
        "    load_in_4bit=True                  # <- correct kwarg\n",
        ")\n",
        "\n",
        "YES_RE  = re.compile(r\"\\b(yes|correct)\\b\", re.I)\n",
        "NO_RE   = re.compile(r\"\\b(no|incorrect|wrong)\\b\", re.I)\n",
        "\n",
        "# quick sanity check\n",
        "# model_inputs = tokenizer([\"An ABAB rhyme scheme\"], return_tensors=\"pt\").to(\"cuda\")\n",
        "# generated_ids = model.generate(**model_inputs)\n",
        "# tokenizer.batch_decode(generated_ids, skip_special_tokens=True)[0]"
      ],
      "metadata": {
        "id": "EuO05Ma75i_p"
      },
      "execution_count": null,
      "outputs": []
    },
    {
      "cell_type": "markdown",
      "source": [
        "# Get Topics Dataset"
      ],
      "metadata": {
        "id": "cVCSowpBSOHh"
      }
    },
    {
      "cell_type": "code",
      "source": [
        "import jsonlines\n",
        "import torch\n",
        "from torch.utils.data import IterableDataset, DataLoader\n",
        "import random\n",
        "\n",
        "\n",
        "class PromptStream(IterableDataset):\n",
        "    def __init__(self, path, tokenizer):\n",
        "        with jsonlines.open(path) as r:\n",
        "            self.prompts = [o[\"prompt\"] for o in r]\n",
        "            self.tokenizer = AutoTokenizer.from_pretrained(\n",
        "                \"Qwen/Qwen2.5-7B\",\n",
        "                trust_remote_code=True             # Qwen models need this\n",
        "            )\n",
        "\n",
        "    def __len__(self):\n",
        "        return len(self.prompts)\n",
        "\n",
        "    def __iter__(self):\n",
        "        while True:\n",
        "            random.shuffle(self.prompts)\n",
        "            for p in self.prompts:\n",
        "              if p is not None:\n",
        "                yield {\"prompt\": self.tokenizer(p, return_tensors=\"pt\")}"
      ],
      "metadata": {
        "id": "KpgZhmKMSQXf"
      },
      "execution_count": null,
      "outputs": []
    },
    {
      "cell_type": "code",
      "source": [
        "from torch.utils.data import DataLoader\n",
        "\n",
        "dataset = PromptStream('doing_tasks_dataset.jsonl', tokenizer)\n",
        "dataloader = DataLoader(dataset, batch_size=32, num_workers=4, drop_last=True, timeout=60)"
      ],
      "metadata": {
        "id": "h5UDb3Pw3saH"
      },
      "execution_count": null,
      "outputs": []
    },
    {
      "cell_type": "code",
      "source": [
        "print(dataset)\n",
        "print(dataset.__iter__())"
      ],
      "metadata": {
        "id": "hwKg3O_5_0lD"
      },
      "execution_count": null,
      "outputs": []
    },
    {
      "cell_type": "code",
      "source": [
        "def generate(inputs, temperature):\n",
        "    # inputs = tokenizer(prompt=f\"Create an example of the concept/make a: {prompt}\", return_tensors=\"pt\").to(model.device)\n",
        "    answer_ids = model.generate(**inputs, temperature=temperature)\n",
        "    return tokenizer.decode(answer_ids[0], skip_special_tokens=True)\n",
        "\n",
        "def grade(execution, prompt, temperature=0, unclear_penalty=-0.2):\n",
        "    critique_prompt = (\n",
        "        f\"Here is the original task:\\n\\n{prompt}\\n\\n\"\n",
        "        f\"Here is a proposed answer:\\n{execution}\\n\\n\"\n",
        "        \"Does the proposed answer correctly and deeply satisfy the task? \"\n",
        "        \"Answer with either YES or NO and give one short reason.\"\n",
        "    )\n",
        "    inputs = tokenizer(critique_prompt, return_tensors=\"pt\").to(model.device)\n",
        "    with torch.no_grad():\n",
        "        verdict_ids = model.generate(\n",
        "            **inputs,\n",
        "            max_new_tokens=128,\n",
        "            temperature=temperature\n",
        "        )\n",
        "    verdict = tokenizer.decode(verdict_ids[0], skip_special_tokens=True)\n",
        "\n",
        "    # 2‑c.  Parse verdict → reward\n",
        "    if YES_RE.search(verdict) and not NO_RE.search(verdict):\n",
        "        return 1.0\n",
        "    if NO_RE.search(verdict):\n",
        "        return -1.0\n",
        "    return unclear_penalty\n",
        "\n",
        "# def group_fn(prompts, model, tokenizer, device):\n",
        "#     groups, rewards = [], []\n",
        "#     for p in prompts:\n",
        "#         ans  = [generate(p,t) for t in (0.05,0.15,0.40,0.70,1.10)]\n",
        "#         rew  = [grade(a,p) for a in ans]\n",
        "#         # centre inside group\n",
        "#         r    = torch.tensor(rew)\n",
        "#         r    = (r - r.mean()) / (r.std() + 1e-7)\n",
        "#         groups.append(ans)\n",
        "#         rewards.append(r.tolist())\n",
        "#     return groups, rewards\n",
        "\n",
        "def group_fn(prompt_dicts, model, tokenizer, device):\n",
        "    groups, rewards = [], []\n",
        "    for pd in prompt_dicts:\n",
        "        p = pd[\"prompt\"]  # ✅ extract actual prompt string\n",
        "        print(p)\n",
        "        ans  = [generate(p,t) for t in (0.05,0.15,0.40,0.70,1.10)]\n",
        "        rew  = [grade(a,p) for a in ans]\n",
        "        r    = torch.tensor(rew)\n",
        "        r    = (r - r.mean()) / (r.std() + 1e-7)\n",
        "        groups.append(ans)\n",
        "        rewards.append(r.tolist())\n",
        "    return groups, rewards\n",
        "\n"
      ],
      "metadata": {
        "id": "031O0Dbv_B0g"
      },
      "execution_count": null,
      "outputs": []
    },
    {
      "cell_type": "markdown",
      "source": [
        "# GRPO"
      ],
      "metadata": {
        "id": "K6Dz5bQUSIE6"
      }
    },
    {
      "cell_type": "code",
      "source": [
        "from peft import LoraConfig, get_peft_model\n",
        "from torch.optim import AdamW\n",
        "\n",
        "lora = LoraConfig(r=64, target_modules=[\"q_proj\", \"v_proj\", \"up_proj\", \"down_proj\"])\n",
        "model = get_peft_model(model, lora)\n",
        "optimizer = AdamW(model.parameters(), lr=1e-5)\n",
        "KL_BETA   = 0.02\n",
        "\n",
        "ref_model = AutoModelForCausalLM.from_pretrained(\"Qwen/Qwen2.5-7B\", load_in_4bit=True, device_map=\"cuda\")\n",
        "ref_model.eval()\n",
        "ref_model.requires_grad_(False)"
      ],
      "metadata": {
        "id": "467BdwEqSKuQ"
      },
      "execution_count": null,
      "outputs": []
    },
    {
      "cell_type": "code",
      "source": [
        "# wandb key: 8b7eeeaab8dc97838c19f738590b600fbd58bee4"
      ],
      "metadata": {
        "id": "WclMPlbtAU5M"
      },
      "execution_count": null,
      "outputs": []
    },
    {
      "cell_type": "code",
      "source": [
        "from trl import GRPOTrainer, GRPOConfig\n",
        "from datasets import IterableDataset\n",
        "\n",
        "cfg = GRPOConfig(output_dir=\"Qwen2-0.5B-GRPO\", learning_rate=2e-5, max_steps=2000)\n",
        "\n",
        "# ---------- 3.  correct hook name is group_fn ---------------------------\n",
        "# trainer = GRPOTrainer(\n",
        "#     model = model,\n",
        "#     reward_funcs=group_fn,\n",
        "#     train_dataset=dataset,\n",
        "#     args= grpo_cfg\n",
        "# )\n",
        "\n",
        "# trainer.train()\n",
        "\n",
        "identity_collator = lambda batch: batch    # returns List[str] as‑is\n",
        "\n",
        "trainer = GRPOTrainer(\n",
        "    model = model,\n",
        "    processing_class= tokenizer,\n",
        "    train_dataset = PromptStream(\"doing_tasks_dataset.jsonl\", tokenizer),\n",
        "    reward_funcs=group_fn,         # or group_fn=… (see signature)\n",
        "    args = cfg          # contains max_steps\n",
        ")\n",
        "trainer.train()"
      ],
      "metadata": {
        "id": "sSdxZfJKt4II"
      },
      "execution_count": null,
      "outputs": []
    },
    {
      "cell_type": "code",
      "source": [
        "import inspect\n",
        "print(inspect.signature(GRPOTrainer.__init__))"
      ],
      "metadata": {
        "id": "m3gJfi3hYHJz"
      },
      "execution_count": null,
      "outputs": []
    },
    {
      "cell_type": "code",
      "source": [
        "import jsonlines\n",
        "import torch\n",
        "from torch.utils.data import IterableDataset, DataLoader\n",
        "import random\n",
        "\n",
        "class PromptStream(IterableDataset):\n",
        "    def __init__(self, path, tokenizer):\n",
        "        with jsonlines.open(path) as r:\n",
        "            self.prompts = [o[\"prompt\"] for o in r]\n",
        "        self.tok = tokenizer\n",
        "\n",
        "    def __len__(self):\n",
        "        return len(self.prompts)\n",
        "\n",
        "    def __iter__(self):\n",
        "        while True:\n",
        "            random.shuffle(self.prompts)\n",
        "            for p in self.prompts:\n",
        "                enc = self.tok(p, return_tensors=\"pt\", truncation=True, padding=False)\n",
        "                if not(enc==None):\n",
        "                  # Drop batch dim; ONLY tensors – no strings\n",
        "                  yield {\n",
        "                      \"input_ids\": enc[\"input_ids\"].squeeze(0),\n",
        "                      \"attention_mask\": enc[\"attention_mask\"].squeeze(0),\n",
        "                  }\n",
        "\n",
        "dataset = PromptStream('doing_tasks_dataset.jsonl', tokenizer)\n",
        "dataloader = DataLoader(dataset, batch_size=32, num_workers=4, drop_last=True, timeout=60)\n",
        "dataset.__iter__()\n",
        "\n",
        "def group_fn(batch, model, tokenizer, device):\n",
        "    prompts = tokenizer.batch_decode(\n",
        "        [b[\"input_ids\"] for b in batch],\n",
        "        skip_special_tokens=True\n",
        "    )\n",
        "    answer_groups, reward_groups = [], []\n",
        "    for p in prompts:\n",
        "        answers = [generate(p, t) for t in (0.05, 0.15, 0.40, 0.70, 1.10)]\n",
        "        raw     = [grade(a, p)    for a in answers]\n",
        "        adv     = torch.tensor(raw, dtype=torch.float32, device=device)\n",
        "        adv     = (adv - adv.mean()) / (adv.std() + 1e-7)\n",
        "        answer_groups.append(answers)\n",
        "        reward_groups.append(adv)\n",
        "    return answer_groups, reward_groups\n",
        "\n",
        "cfg = GRPOConfig(output_dir=\"Qwen2-0.5B-GRPO\", learning_rate=2e-5, max_steps=2000)\n",
        "\n",
        "stream = PromptStream(\"doing_tasks_dataset.jsonl\", tokenizer)\n",
        "\n",
        "trainer = GRPOTrainer(\n",
        "    model            = model,\n",
        "    reward_funcs     = group_fn,       # matches your signature\n",
        "    args             = cfg,\n",
        "    train_dataset    = stream,\n",
        "    processing_class = tokenizer\n",
        ")\n",
        "trainer.train()\n"
      ],
      "metadata": {
        "id": "rqJaHCB6IJWH"
      },
      "execution_count": null,
      "outputs": []
    },
    {
      "cell_type": "markdown",
      "source": [
        "# Direct Preference Optimization"
      ],
      "metadata": {
        "id": "zKw7x_OFH72V"
      }
    },
    {
      "cell_type": "code",
      "source": [
        "ans1, _, r1 = ask_and_verify(prompt, temperature=0.7)\n",
        "ans2, _, r2 = ask_and_verify(prompt, temperature=1.1)\n",
        "chosen, rejected = (ans1, ans2) if r1 > r2 else (ans2, ans1)\n",
        "from trl import DPOTrainer\n",
        "dataset = [{\"prompt\": prompt, \"chosen\": chosen, \"rejected\": rejected} for ...]\n",
        "trainer = DPOTrainer(\n",
        "    model,\n",
        "    ref_model=None,           # uses frozen copy internally\n",
        "    args=training_args,\n",
        "    beta=0.1,                 # softness of preference\n",
        "    train_dataset=dataset\n",
        ")\n",
        "trainer.train()"
      ],
      "metadata": {
        "id": "9kfoZsbBFqxT"
      },
      "execution_count": null,
      "outputs": []
    }
  ]
}